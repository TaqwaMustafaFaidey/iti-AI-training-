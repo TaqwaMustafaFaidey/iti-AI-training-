{
  "nbformat": 4,
  "nbformat_minor": 0,
  "metadata": {
    "colab": {
      "provenance": [],
      "include_colab_link": true
    },
    "kernelspec": {
      "name": "python3",
      "display_name": "Python 3"
    },
    "language_info": {
      "name": "python"
    }
  },
  "cells": [
    {
      "cell_type": "markdown",
      "metadata": {
        "id": "view-in-github",
        "colab_type": "text"
      },
      "source": [
        "<a href=\"https://colab.research.google.com/github/TaqwaMustafaFaidey/iti-AI-training-/blob/main/Matplotlib_exercice_iti.ipynb\" target=\"_parent\"><img src=\"https://colab.research.google.com/assets/colab-badge.svg\" alt=\"Open In Colab\"/></a>"
      ]
    },
    {
      "cell_type": "code",
      "source": [
        "import pandas as pd\n",
        "import numpy as np\n",
        "import matplotlib.pyplot as plt"
      ],
      "metadata": {
        "id": "aRxLESruGqNV"
      },
      "execution_count": null,
      "outputs": []
    },
    {
      "cell_type": "code",
      "source": [
        "df=pd.read_csv('/MBA_Stats - MBA_Stats.csv')\n",
        "df.head()"
      ],
      "metadata": {
        "id": "8P93MjkTG2UH"
      },
      "execution_count": null,
      "outputs": []
    },
    {
      "cell_type": "code",
      "source": [
        "import matplotlib.pyplot as plt\n",
        "%matplotlib inline\n",
        "data = [3, 8, 1, 10, 5]\n",
        "plt.plot(data)\n",
        "plt.show()"
      ],
      "metadata": {
        "id": "UI0O3m4xHdc6"
      },
      "execution_count": null,
      "outputs": []
    },
    {
      "cell_type": "code",
      "source": [
        "X = [1, 2, 3, 4, 5]\n",
        "y = [10, 20, 30, 40, 50]\n",
        "print(\"X:\", X)\n",
        "print(\"y:\", y)"
      ],
      "metadata": {
        "id": "5L6MuVIhHnBz"
      },
      "execution_count": null,
      "outputs": []
    },
    {
      "cell_type": "code",
      "source": [
        "import matplotlib.pyplot as plt\n",
        "%matplotlib inline\n",
        "X = [1, 2, 3, 4, 5]\n",
        "y = [10, 20, 25, 30, 50]\n",
        "fig, ax = plt.subplots()\n",
        "ax.plot(X, y)\n",
        "ax.set_title(\"Simple Line Plot\")\n",
        "ax.set_xlabel(\"X values\")\n",
        "ax.set_ylabel(\"Y values\")\n",
        "fig.savefig(\"simple_plot.png\")\n",
        "plt.show()"
      ],
      "metadata": {
        "id": "ihn48YcOKMcO"
      },
      "execution_count": null,
      "outputs": []
    },
    {
      "cell_type": "code",
      "source": [
        "import numpy as np\n",
        "X = np.linspace(0, 21, 100)\n",
        "print(X)"
      ],
      "metadata": {
        "id": "wl1RhWJrKhRM"
      },
      "execution_count": null,
      "outputs": []
    },
    {
      "cell_type": "code",
      "source": [
        "import numpy as np\n",
        "import matplotlib.pyplot as plt\n",
        "%matplotlib inline\n",
        "X = np.linspace(0, 100, 100)\n",
        "y = X ** 2\n",
        "fig, ax = plt.subplots()\n",
        "ax.plot(X, y)\n",
        "plt.show()"
      ],
      "metadata": {
        "id": "-rO6CveRNLbA"
      },
      "execution_count": null,
      "outputs": []
    },
    {
      "cell_type": "code",
      "source": [
        "import numpy as np\n",
        "import matplotlib.pyplot as plt\n",
        "%matplotlib inline\n",
        "X = np.linspace(0, 5, 100)\n",
        "y = np.exp(X)\n",
        "fig, ax = plt.subplots()\n",
        "ax.scatter(X, y)\n",
        "plt.show()"
      ],
      "metadata": {
        "id": "5ZzcxECQNW3h"
      },
      "execution_count": null,
      "outputs": []
    },
    {
      "cell_type": "code",
      "source": [
        "import numpy as np\n",
        "import matplotlib.pyplot as plt\n",
        "%matplotlib inline\n",
        "X = np.linspace(0, 10, 100)\n",
        "y = np.sin(X)\n",
        "fig, ax = plt.subplots()\n",
        "ax.scatter(X, y)\n",
        "plt.show()"
      ],
      "metadata": {
        "id": "9TXfT3TFPQq2"
      },
      "execution_count": null,
      "outputs": []
    },
    {
      "cell_type": "code",
      "source": [
        "foods = {\n",
        "    \"Pizza\": 120,\n",
        "    \"Burger\": 75,\n",
        "    \"Pasta\": 90\n",
        "}\n",
        "\n",
        "print(foods)"
      ],
      "metadata": {
        "id": "Yel1bpWjPbMV"
      },
      "execution_count": null,
      "outputs": []
    },
    {
      "cell_type": "code",
      "source": [
        "import matplotlib.pyplot as plt\n",
        "%matplotlib inline\n",
        "\n",
        "foods = {\n",
        "    \"Pizza\": 120,\n",
        "    \"Burger\": 75,\n",
        "    \"Pasta\": 90\n",
        "}\n",
        "\n",
        "fig, ax = plt.subplots()\n",
        "ax.bar(foods.keys(), foods.values())\n",
        "ax.set_title(\"Favourite Foods and Their Prices\")\n",
        "ax.set_xlabel(\"Food\")\n",
        "ax.set_ylabel(\"Price\")\n",
        "plt.show()"
      ],
      "metadata": {
        "id": "-F67NAuWPgbi"
      },
      "execution_count": null,
      "outputs": []
    },
    {
      "cell_type": "code",
      "source": [
        "import matplotlib.pyplot as plt\n",
        "%matplotlib inline\n",
        "\n",
        "foods = {\n",
        "    \"Pizza\": 120,\n",
        "    \"Burger\": 75,\n",
        "    \"Pasta\": 90\n",
        "}\n",
        "\n",
        "fig, ax = plt.subplots()\n",
        "ax.barh(list(foods.keys()), list(foods.values()))\n",
        "ax.set_title(\"Favourite Foods and Their Prices\")\n",
        "ax.set_xlabel(\"Price\")\n",
        "ax.set_ylabel(\"Food\")\n",
        "plt.show()"
      ],
      "metadata": {
        "id": "JOV4j4P1Plik"
      },
      "execution_count": null,
      "outputs": []
    },
    {
      "cell_type": "code",
      "source": [
        "import numpy as np\n",
        "import matplotlib.pyplot as plt\n",
        "%matplotlib inline\n",
        "\n",
        "X = np.random.randn(1000)\n",
        "\n",
        "fig, ax = plt.subplots()\n",
        "ax.hist(X, bins=30)\n",
        "plt.show()"
      ],
      "metadata": {
        "id": "7ESDhbSSPtup"
      },
      "execution_count": null,
      "outputs": []
    },
    {
      "cell_type": "code",
      "source": [
        "import numpy as np\n",
        "import matplotlib.pyplot as plt\n",
        "%matplotlib inline\n",
        "X = np.random.rand(1000)\n",
        "fig, ax = plt.subplots()\n",
        "ax.hist(X, bins=30)\n",
        "plt.show()"
      ],
      "metadata": {
        "id": "vuuOBFnsPyaw"
      },
      "execution_count": null,
      "outputs": []
    },
    {
      "cell_type": "code",
      "source": [
        "import matplotlib.pyplot as plt\n",
        "%matplotlib inline\n",
        "fig, axes = plt.subplots(2, 2)\n",
        "plt.show()"
      ],
      "metadata": {
        "id": "bPtrWob6P4yk"
      },
      "execution_count": null,
      "outputs": []
    },
    {
      "cell_type": "code",
      "source": [
        "import numpy as np\n",
        "import matplotlib.pyplot as plt\n",
        "%matplotlib inline\n",
        "\n",
        "X = np.linspace(0, 10, 100)\n",
        "\n",
        "foods = {\n",
        "    \"Pizza\": 120,\n",
        "    \"Burger\": 75,\n",
        "    \"Pasta\": 90\n",
        "}\n",
        "\n",
        "fig, axes = plt.subplots(2, 2, figsize=(10, 5))\n",
        "axes[0, 0].plot(X, X/2)\n",
        "axes[0, 1].scatter(np.random.rand(10), np.random.rand(10))\n",
        "axes[1, 0].bar(foods.keys(), foods.values())\n",
        "axes[1, 1].hist(np.random.randn(1000), bins=30)\n",
        "plt.tight_layout()\n",
        "plt.show()"
      ],
      "metadata": {
        "id": "HAChDN_2P-Sp"
      },
      "execution_count": null,
      "outputs": []
    },
    {
      "cell_type": "code",
      "source": [
        "# car dataset\n",
        "import pandas as pd\n",
        "car_sales = pd.read_csv('/car-sales - car-sales.csv')\n",
        "car_sales"
      ],
      "metadata": {
        "id": "Dct4P0J3Q-Fa",
        "collapsed": true
      },
      "execution_count": null,
      "outputs": []
    },
    {
      "cell_type": "code",
      "source": [
        "car_sales['Price'] = car_sales['Price'].replace('[\\$,]', '', regex=True).astype(float)\n",
        "car_sales['Price'].plot()"
      ],
      "metadata": {
        "id": "rGI_f60NRH3g"
      },
      "execution_count": null,
      "outputs": []
    },
    {
      "cell_type": "code",
      "source": [
        "car_sales['Price'] = (\n",
        "    car_sales['Price']\n",
        "    .astype(str)\n",
        "    .replace('[\\$,]', '', regex=True)\n",
        "    .str[:-2]\n",
        "    .astype(float)\n",
        ")\n"
      ],
      "metadata": {
        "id": "sey-BCc0Rakh"
      },
      "execution_count": null,
      "outputs": []
    },
    {
      "cell_type": "code",
      "source": [
        "import pandas as pd\n",
        "from datetime import datetime, timedelta\n",
        "\n",
        "car_sales['Total Sales'] = car_sales['Price'].cumsum()\n",
        "car_sales['Sale Date'] = pd.date_range(start=datetime.today(), periods=len(car_sales), freq='D')\n",
        "car_sales"
      ],
      "metadata": {
        "id": "GQP1F5pvRqNu"
      },
      "execution_count": null,
      "outputs": []
    },
    {
      "cell_type": "code",
      "source": [
        "car_sales.plot(x='Sale Date', y='Total Sales')"
      ],
      "metadata": {
        "id": "nkJY_lRjRvzW"
      },
      "execution_count": null,
      "outputs": []
    },
    {
      "cell_type": "code",
      "source": [
        "car_sales['Price'] = car_sales['Price'].astype(int)\n",
        "car_sales.plot(x='Odometer (KM)', y='Price', kind='scatter')"
      ],
      "metadata": {
        "id": "xkcdihxSR1Zu"
      },
      "execution_count": null,
      "outputs": []
    },
    {
      "cell_type": "code",
      "source": [
        "import numpy as np\n",
        "import pandas as pd\n",
        "import matplotlib.pyplot as plt\n",
        "\n",
        "X = np.random.rand(10, 4)\n",
        "df = pd.DataFrame(X, columns=['a', 'b', 'c', 'd'])\n",
        "df.plot(kind='bar')\n",
        "plt.show()"
      ],
      "metadata": {
        "id": "cYDl7dStR6TQ"
      },
      "execution_count": null,
      "outputs": []
    },
    {
      "cell_type": "code",
      "source": [
        "import matplotlib.pyplot as plt\n",
        "\n",
        "car_sales.plot(x='Make', y='Odometer (KM)', kind='bar')\n",
        "plt.show()"
      ],
      "metadata": {
        "id": "mGm_AiokR_CE"
      },
      "execution_count": null,
      "outputs": []
    },
    {
      "cell_type": "code",
      "source": [
        "import matplotlib.pyplot as plt\n",
        "\n",
        "car_sales['Odometer (KM)'].plot(kind='hist')\n",
        "plt.show()"
      ],
      "metadata": {
        "id": "phoHL-1UWhev"
      },
      "execution_count": null,
      "outputs": []
    },
    {
      "cell_type": "code",
      "source": [
        "import matplotlib.pyplot as plt\n",
        "\n",
        "car_sales['Price'].plot(kind='hist', bins=20)\n",
        "plt.show()"
      ],
      "metadata": {
        "id": "A4NI3zNOWmmi"
      },
      "execution_count": null,
      "outputs": []
    }
  ]
}