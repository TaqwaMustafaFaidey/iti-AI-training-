{
  "nbformat": 4,
  "nbformat_minor": 0,
  "metadata": {
    "colab": {
      "provenance": []
    },
    "kernelspec": {
      "name": "python3",
      "display_name": "Python 3"
    },
    "language_info": {
      "name": "python"
    }
  },
  "cells": [
    {
      "cell_type": "code",
      "execution_count": null,
      "metadata": {
        "id": "HtExsAWjdV5u",
        "colab": {
          "base_uri": "https://localhost:8080/"
        },
        "outputId": "891d569f-9bb9-4d9c-bacc-4932be4731c6"
      },
      "outputs": [
        {
          "output_type": "stream",
          "name": "stdout",
          "text": [
            "7\n",
            "2\n",
            "17\n",
            "27\n",
            "1.6666666666666667\n",
            "1\n",
            "2\n"
          ]
        }
      ],
      "source": [
        "num1=3 ;num2=4 ; num3=5 ;\n",
        "\n",
        "print(num1+num2)\n",
        "print(num3-num1)\n",
        "print(num1*num2+num3)\n",
        "print(num1*(num2+num3))\n",
        "print(num3/num1)\n",
        "print(num3//num1)\n",
        "print(num3%num1)\n"
      ]
    },
    {
      "cell_type": "code",
      "source": [
        "x=1; y=2; z=3; g=4;\n",
        "print(x+y*z/g)\n",
        "print(y**z)"
      ],
      "metadata": {
        "colab": {
          "base_uri": "https://localhost:8080/"
        },
        "id": "rvgmLvgrqxiY",
        "outputId": "d2ad2b56-3215-4c11-a291-922e4ea100ac"
      },
      "execution_count": null,
      "outputs": [
        {
          "output_type": "stream",
          "name": "stdout",
          "text": [
            "2.5\n",
            "8\n"
          ]
        }
      ]
    },
    {
      "cell_type": "code",
      "source": [
        "str_a = \"Python\"\n",
        "str_b = \"is a\"\n",
        "str_c = \"times fun language\"\n",
        "num = 1000\n",
        "result_ab = str_a +\" \" + str_b + \" \"+ str(num) + \" \"+ str_c\n",
        "print(result_ab)\n",
        "str_a10 = str_a * 10\n",
        "print (str_a10)\n"
      ],
      "metadata": {
        "id": "u_BKulvgWBaX",
        "colab": {
          "base_uri": "https://localhost:8080/"
        },
        "outputId": "801151a6-2bee-44c2-e9f3-93a967ba3e70"
      },
      "execution_count": 7,
      "outputs": [
        {
          "output_type": "stream",
          "name": "stdout",
          "text": [
            "Python is a 1000 times fun language\n",
            "PythonPythonPythonPythonPythonPythonPythonPythonPythonPython\n"
          ]
        }
      ]
    },
    {
      "cell_type": "code",
      "source": [
        "import math\n",
        "\n",
        "num_1 =-5 ; num_2 = 3.2 ; num_3= 5.7; num_4 = 625 ;\n",
        "print (abs(num_1))\n",
        "print (round(num_2, 2))\n",
        "print (round(num_3, 2))\n",
        "print (math.sqrt(num_4))"
      ],
      "metadata": {
        "colab": {
          "base_uri": "https://localhost:8080/"
        },
        "id": "YUVocGo-PnqC",
        "outputId": "b50bd70d-46d6-440e-ed4b-e950690f5ab9"
      },
      "execution_count": 11,
      "outputs": [
        {
          "output_type": "stream",
          "name": "stdout",
          "text": [
            "5\n",
            "3.2\n",
            "5.7\n",
            "25.0\n"
          ]
        }
      ]
    },
    {
      "cell_type": "code",
      "source": [
        "num1 = float (input(\" Enter your First number :\") )\n",
        "num2 = float  ( input(\" Enter your Second number : \"))\n",
        "result = num1 + num2\n",
        "print (result)"
      ],
      "metadata": {
        "colab": {
          "base_uri": "https://localhost:8080/"
        },
        "id": "eKEuLUfKRPeG",
        "outputId": "faf9a364-f80a-4062-c7c8-a4c6ecfa61ab"
      },
      "execution_count": 12,
      "outputs": [
        {
          "output_type": "stream",
          "name": "stdout",
          "text": [
            " Enter your First number :3\n",
            " Enter your Second number : 5\n",
            "8.0\n"
          ]
        }
      ]
    },
    {
      "cell_type": "code",
      "source": [
        "# controlflow. sheet ans"
      ],
      "metadata": {
        "id": "wxJmaf0hSiFN"
      },
      "execution_count": 14,
      "outputs": []
    },
    {
      "cell_type": "code",
      "source": [
        "num = int (input (\" Enter your number :\" ))\n",
        "if num % 2 == 0:\n",
        "  print(\"even\")\n",
        "else :\n",
        "  print (\"odd\")"
      ],
      "metadata": {
        "colab": {
          "base_uri": "https://localhost:8080/"
        },
        "id": "5TQkMkSLSfPr",
        "outputId": "5f380888-34fc-4dcb-9237-05160bb37915"
      },
      "execution_count": 16,
      "outputs": [
        {
          "output_type": "stream",
          "name": "stdout",
          "text": [
            " Enter your number :4\n",
            "even\n"
          ]
        }
      ]
    },
    {
      "cell_type": "code",
      "source": [
        "score = int ( input ( \" Enter your score(0-100): \"))\n",
        "if score >= 50 :\n",
        "  print(\"Pass\")\n",
        "else :\n",
        "  print(\"Fail\")"
      ],
      "metadata": {
        "colab": {
          "base_uri": "https://localhost:8080/"
        },
        "id": "2QOpbHnoVX4j",
        "outputId": "103a569a-8355-4a4d-e68c-e933e720d4f2"
      },
      "execution_count": 22,
      "outputs": [
        {
          "output_type": "stream",
          "name": "stdout",
          "text": [
            " Enter your score(0-100): 50\n",
            "Pass\n"
          ]
        }
      ]
    },
    {
      "cell_type": "code",
      "source": [
        "a = float ( input(\" Enter the First number :\"))\n",
        "b= float (input(\"Enter the second number :\"))\n",
        "c= float (input ( \" Enter the third number: \"))\n",
        "largest= max (a,b,c)\n",
        "print (\"largest number is:\", largest)"
      ],
      "metadata": {
        "colab": {
          "base_uri": "https://localhost:8080/"
        },
        "id": "48u6ewMBWQ09",
        "outputId": "234aed96-37d5-40ad-be5d-b3675d29e28e"
      },
      "execution_count": 24,
      "outputs": [
        {
          "output_type": "stream",
          "name": "stdout",
          "text": [
            " Enter the First number :9\n",
            "Enter the second number :2\n",
            " Enter the third number: 10\n",
            "largest number is: 10.0\n"
          ]
        }
      ]
    },
    {
      "cell_type": "code",
      "source": [
        "for i in range (1, 11) :\n",
        "      print (i)"
      ],
      "metadata": {
        "colab": {
          "base_uri": "https://localhost:8080/"
        },
        "id": "HUJ1S7QFY9cZ",
        "outputId": "584ec6bc-69c1-4230-e7c0-e2f74bdf1fdb"
      },
      "execution_count": 27,
      "outputs": [
        {
          "output_type": "stream",
          "name": "stdout",
          "text": [
            "1\n",
            "2\n",
            "3\n",
            "4\n",
            "5\n",
            "6\n",
            "7\n",
            "8\n",
            "9\n",
            "10\n"
          ]
        }
      ]
    },
    {
      "cell_type": "code",
      "source": [
        "num = int (input (\"Enter you number:\" ))\n",
        "for i in range ( 1 , 11):\n",
        "  print (\"f{num} x {i} ={num*i}\")"
      ],
      "metadata": {
        "colab": {
          "base_uri": "https://localhost:8080/"
        },
        "id": "V8yegHYrZYxH",
        "outputId": "64541ac5-8aaa-43f3-9378-51bec96685e2"
      },
      "execution_count": 39,
      "outputs": [
        {
          "output_type": "stream",
          "name": "stdout",
          "text": [
            "Enter you number:30\n",
            "f{num} x {i} ={num*i}\n",
            "f{num} x {i} ={num*i}\n",
            "f{num} x {i} ={num*i}\n",
            "f{num} x {i} ={num*i}\n",
            "f{num} x {i} ={num*i}\n",
            "f{num} x {i} ={num*i}\n",
            "f{num} x {i} ={num*i}\n",
            "f{num} x {i} ={num*i}\n",
            "f{num} x {i} ={num*i}\n",
            "f{num} x {i} ={num*i}\n"
          ]
        }
      ]
    },
    {
      "cell_type": "markdown",
      "source": [
        "# New Section"
      ],
      "metadata": {
        "id": "IQ8qdQ5jeLtX"
      }
    },
    {
      "cell_type": "code",
      "source": [
        "sumation = 0\n",
        "for i in range ( 2, 51, 2):\n",
        "      sumation += i\n",
        "      print(\" sum of even numbers from 1 to 50 is:\",  sumation )"
      ],
      "metadata": {
        "colab": {
          "base_uri": "https://localhost:8080/"
        },
        "id": "U55sWuqraEjb",
        "outputId": "cbca69b6-a07c-4dcc-9714-b5332b12eeec"
      },
      "execution_count": 29,
      "outputs": [
        {
          "output_type": "stream",
          "name": "stdout",
          "text": [
            " sum of even numbers from 1 to 50 is: 2\n",
            " sum of even numbers from 1 to 50 is: 6\n",
            " sum of even numbers from 1 to 50 is: 12\n",
            " sum of even numbers from 1 to 50 is: 20\n",
            " sum of even numbers from 1 to 50 is: 30\n",
            " sum of even numbers from 1 to 50 is: 42\n",
            " sum of even numbers from 1 to 50 is: 56\n",
            " sum of even numbers from 1 to 50 is: 72\n",
            " sum of even numbers from 1 to 50 is: 90\n",
            " sum of even numbers from 1 to 50 is: 110\n",
            " sum of even numbers from 1 to 50 is: 132\n",
            " sum of even numbers from 1 to 50 is: 156\n",
            " sum of even numbers from 1 to 50 is: 182\n",
            " sum of even numbers from 1 to 50 is: 210\n",
            " sum of even numbers from 1 to 50 is: 240\n",
            " sum of even numbers from 1 to 50 is: 272\n",
            " sum of even numbers from 1 to 50 is: 306\n",
            " sum of even numbers from 1 to 50 is: 342\n",
            " sum of even numbers from 1 to 50 is: 380\n",
            " sum of even numbers from 1 to 50 is: 420\n",
            " sum of even numbers from 1 to 50 is: 462\n",
            " sum of even numbers from 1 to 50 is: 506\n",
            " sum of even numbers from 1 to 50 is: 552\n",
            " sum of even numbers from 1 to 50 is: 600\n",
            " sum of even numbers from 1 to 50 is: 650\n"
          ]
        }
      ]
    },
    {
      "cell_type": "code",
      "source": [
        "x = int (input ( \" Enter you number:\"))\n",
        "factorial = 1\n",
        "while x > 1:\n",
        "  factorial *= x\n",
        "  x -= 1\n",
        "print (\"Factorial is:\" , factorial)"
      ],
      "metadata": {
        "colab": {
          "base_uri": "https://localhost:8080/"
        },
        "id": "7VrN0mmAa-q2",
        "outputId": "2c64c3be-22fb-4f9c-9150-9c2ad80a32e0"
      },
      "execution_count": 36,
      "outputs": [
        {
          "output_type": "stream",
          "name": "stdout",
          "text": [
            " Enter you number:4\n",
            "Factorial is: 24\n"
          ]
        }
      ]
    },
    {
      "cell_type": "code",
      "source": [
        "score = int(input(\"Enter your score(0-100):\"))\n",
        "if  90 <= score <= 100:\n",
        "  print(\"Grade: A\")\n",
        "elif 80 <= score <= 89:\n",
        "  print(\"Grade: B\")\n",
        "elif 70 <= score <= 79:\n",
        "  print(\"Grade: C\")\n",
        "  elif 60 <= score >= 69:\n",
        "    print(\"Grade : D\")\n",
        "    else\n",
        "    print(\"Grade : F\")"
      ],
      "metadata": {
        "colab": {
          "base_uri": "https://localhost:8080/"
        },
        "id": "yRFug_TRcGv6",
        "outputId": "130392cd-7ebb-4be5-ab9b-f9928545fc4a"
      },
      "execution_count": 38,
      "outputs": [
        {
          "output_type": "stream",
          "name": "stdout",
          "text": [
            "Enter your score(0-100):60\n",
            "Grade : D\n"
          ]
        }
      ]
    }
  ]
}