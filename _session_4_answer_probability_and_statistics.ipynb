{
  "nbformat": 4,
  "nbformat_minor": 0,
  "metadata": {
    "colab": {
      "provenance": []
    },
    "kernelspec": {
      "name": "python3",
      "display_name": "Python 3"
    },
    "language_info": {
      "name": "python"
    }
  },
  "cells": [
    {
      "cell_type": "code",
      "execution_count": null,
      "metadata": {
        "id": "BO_hmRzje-8C",
        "colab": {
          "base_uri": "https://localhost:8080/"
        },
        "outputId": "ea371310-bd85-4776-e5b0-26ae678c4883"
      },
      "outputs": [
        {
          "output_type": "stream",
          "name": "stdout",
          "text": [
            "manual mean: 20.5\n",
            "numpy_mean:, numpy_mean\n"
          ]
        }
      ],
      "source": [
        "import numpy as np\n",
        "ages = [ 18 , 21, 20 , 19 , 22 , 23, 20 ,21,22,19]\n",
        "manual_mean = sum(ages) / len (ages)\n",
        "print(\"manual mean:\" , manual_mean)\n",
        "numpy_mean = np.mean(ages)\n",
        "print (\"numpy_mean:, numpy_mean\")"
      ]
    },
    {
      "cell_type": "code",
      "source": [
        "import random\n",
        "import numpy as np\n",
        "\n",
        "numbers = [random.randint(10,50) for _ in range(15)]\n",
        "stored_nums = sorted(numbers)\n",
        "x = len(stored_nums)\n",
        "\n",
        "if x % 2 == 1:\n",
        "    manual_median = stored_nums[x // 2]\n",
        "else:\n",
        "    manual_median = (stored_nums[x // 2 - 1] + stored_nums[x // 2]) / 2\n",
        "\n",
        "print(\"Numbers:\", numbers)\n",
        "print(\"manual median:\", manual_median)\n",
        "numpy_median = np.median(numbers)\n",
        "print(\"Numpy median:\", numpy_median)"
      ],
      "metadata": {
        "colab": {
          "base_uri": "https://localhost:8080/"
        },
        "id": "NsxAX2-6WOP6",
        "outputId": "c9876d53-85d7-4580-fea1-18e6fa5bec79"
      },
      "execution_count": null,
      "outputs": [
        {
          "output_type": "stream",
          "name": "stdout",
          "text": [
            "Numbers: [23, 24, 44, 26, 25, 43, 40, 35, 15, 24, 21, 32, 28, 42, 32]\n",
            "manual median: 28\n",
            "Numpy median: 28.0\n"
          ]
        }
      ]
    },
    {
      "cell_type": "code",
      "source": [
        "min_num = min( numbers)\n",
        "max_num = max (numbers)\n",
        "range_manual= max_num - min_num\n",
        "\n",
        "print(\"manual min:\" , min_num)\n",
        "print(\"manual max:\" , max_num)\n",
        "print(\"manual range:\" , range_manual)\n",
        "\n",
        "print(\"numpy min:\" , np.min(numbers))\n",
        "print(\"numpy max:\" , np.max(numbers))\n",
        "print(\"numpy range:\" ,np.max(numbers) - np.min(numbers))"
      ],
      "metadata": {
        "colab": {
          "base_uri": "https://localhost:8080/"
        },
        "id": "O7KfD3lXeBp_",
        "outputId": "601298dc-4fe2-45fe-9f51-f9ab2f9a6469"
      },
      "execution_count": null,
      "outputs": [
        {
          "output_type": "stream",
          "name": "stdout",
          "text": [
            "manual min: 15\n",
            "manual max: 44\n",
            "manual range: 29\n",
            "numpy min: 15\n",
            "numpy max: 44\n",
            "numpy range: 29\n"
          ]
        }
      ]
    },
    {
      "cell_type": "code",
      "source": [
        "data = [ 5,7,3,9,10,15,7]\n",
        "mean_data = sum(data) / len(data)\n",
        "variance_manual = sum(( a- mean_data) **2 for a in data) / len(data)\n",
        "standard_dev_manual = variance_manual ** 0.5;\n",
        "\n",
        "print(\"manual variance:\" , variance_manual)\n",
        "print(\"manual standard_dev:\" , standard_dev_manual )\n",
        "\n",
        "print(\"numpy variance:\" , np.var(data))\n",
        "print(\"numpy standard_dev :\" , np.std(data))\n"
      ],
      "metadata": {
        "colab": {
          "base_uri": "https://localhost:8080/"
        },
        "id": "3tSQ-TbqfkAT",
        "outputId": "a0f220e4-9196-4682-c915-26e020a826ba"
      },
      "execution_count": null,
      "outputs": [
        {
          "output_type": "stream",
          "name": "stdout",
          "text": [
            "manual variance: 12.857142857142858\n",
            "manual standard_dev: 3.585685828003181\n",
            "numpy variance: 12.857142857142858\n",
            "numpy standard_dev : 3.585685828003181\n"
          ]
        }
      ]
    },
    {
      "cell_type": "code",
      "source": [
        "q1 = np.percentile(data,25)\n",
        "q2 = np.percentile(data,50)\n",
        "q3 = np.percentile(data,75)\n",
        "iqr  = q3-q1\n",
        "\n",
        "print(\"q1:\", q1 )\n",
        "print(\"q2:\" , q2)\n",
        "print(\"q3:\", q3)\n",
        "print(\"iqr:\", iqr)"
      ],
      "metadata": {
        "colab": {
          "base_uri": "https://localhost:8080/"
        },
        "id": "yd9S-Rj7hQFr",
        "outputId": "73d2f999-4dc8-475f-81ed-9e58ff9fd6d7"
      },
      "execution_count": null,
      "outputs": [
        {
          "output_type": "stream",
          "name": "stdout",
          "text": [
            "q1: 6.0\n",
            "q2: 7.0\n",
            "q3: 9.5\n",
            "iqr: 3.5\n"
          ]
        }
      ]
    },
    {
      "cell_type": "code",
      "source": [
        "def Z_Score_Normalization(lst):\n",
        "    mean_num = sum(lst) / len(lst)\n",
        "    std_num = (sum((a - mean_num) ** 2 for a in lst) / len(lst)) ** 0.5\n",
        "    return [(a - mean_num) / std_num for a in lst]\n",
        "\n",
        "sample_list = [1, 10, 100, 1000]\n",
        "\n",
        "z_score = Z_Score_Normalization(sample_list)\n",
        "print(\"z_score:\", z_score)"
      ],
      "metadata": {
        "colab": {
          "base_uri": "https://localhost:8080/"
        },
        "id": "Z7tH7p74ign3",
        "outputId": "48c9dec1-f141-48cf-a2d7-6590d0da16a7"
      },
      "execution_count": null,
      "outputs": [
        {
          "output_type": "stream",
          "name": "stdout",
          "text": [
            "z_score: [-0.6608415855477571, -0.6393508022779113, -0.4244429695794537, 1.724635357405122]\n"
          ]
        }
      ]
    },
    {
      "cell_type": "code",
      "source": [
        "numbers_20 = [ random.randint(10, 100) for _ in range(20)]\n",
        "avg_moving_manual= [ sum(numbers_20 [ a: a+3]) / 3 for a in range (len(numbers_20))]\n",
        "avg_moving_numpy = np.convolve (numbers_20 , np.ones(3)/3 , mode='valid')\n",
        "\n",
        "print(\"manual avg moving:\" ,avg_moving_manual )\n",
        "print (\" numpy avg moving:\" ,avg_moving_numpy )"
      ],
      "metadata": {
        "colab": {
          "base_uri": "https://localhost:8080/"
        },
        "id": "5ivLGjFzk4eP",
        "outputId": "eb263626-75d8-4029-931e-2dc54c06b4f1"
      },
      "execution_count": null,
      "outputs": [
        {
          "output_type": "stream",
          "name": "stdout",
          "text": [
            "manual avg moving: [66.66666666666667, 66.33333333333333, 68.0, 61.333333333333336, 40.666666666666664, 44.0, 67.66666666666667, 69.0, 50.666666666666664, 31.333333333333332, 42.0, 55.666666666666664, 58.333333333333336, 69.33333333333333, 70.33333333333333, 80.0, 82.0, 70.0, 44.666666666666664, 15.0]\n",
            " numpy avg moving: [66.66666667 66.33333333 68.         61.33333333 40.66666667 44.\n",
            " 67.66666667 69.         50.66666667 31.33333333 42.         55.66666667\n",
            " 58.33333333 69.33333333 70.33333333 80.         82.         70.        ]\n"
          ]
        }
      ]
    },
    {
      "cell_type": "code",
      "source": [
        "nums = list(range(0, 26)) + [300, 400] # Convert range to list before concatenation\n",
        "q1 = np.percentile(nums, 25)\n",
        "q2 = np.percentile(nums, 75)\n",
        "iqr = q2 - q1\n",
        "lower_bound = q1 - 1.5 * iqr\n",
        "upper_bound = q2 + 1.5 * iqr\n",
        "outliers = [x for x in nums if x < lower_bound or x > upper_bound]\n",
        "print(\"outliers:\", outliers)"
      ],
      "metadata": {
        "colab": {
          "base_uri": "https://localhost:8080/"
        },
        "id": "1AToTNLRnrNc",
        "outputId": "35c47809-85a5-447e-ac17-fd9148486892"
      },
      "execution_count": null,
      "outputs": [
        {
          "output_type": "stream",
          "name": "stdout",
          "text": [
            "outliers: [300, 400]\n"
          ]
        }
      ]
    }
  ]
}